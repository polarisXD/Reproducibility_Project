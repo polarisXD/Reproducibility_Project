{
 "cells": [
  {
   "cell_type": "markdown",
   "metadata": {},
   "source": [
    "R Code pulled from https://www.statmethods.net/advgraphs/ggplot2.html"
   ]
  },
  {
   "cell_type": "code",
   "execution_count": 1,
   "metadata": {},
   "outputs": [],
   "source": [
    "#Fig 7\n",
    "library(ggplot2)\n",
    "libray(tidyr)\n",
    "libray(readr)\n",
    "libray(dplyr)\n",
    "data = read_csv(\"F_measure.csv\")\n",
    "chao1_data = read_csv(\"CHAO1.csv\")\n",
    "data[data[,\"Bank\"] == \"Greengenes\",\"Bank\"] = \"GG\"\n",
    "data[data[,\"Bank\"] == \"SILVA\",\"Bank\"] = \"S\"\n",
    "\n",
    "real_chao1 = chao1_data %>%\n",
    "  filter(`Amplicon / Dataset` == \"real\")\n",
    "\n",
    "chao1_data[chao1_data[,\"Bank\"] == \"Greengenes\",\"Bank\"] = \"GG\"\n",
    "chao1_data[chao1_data[,\"Bank\"] == \"SILVA\",\"Bank\"] = \"S\"\n",
    "chao1_data = chao1_data %>%\n",
    "  filter(`Amplicon / Dataset` == \"200(V3)\") %>%\n",
    "  filter(Throughput == 50000) %>%\n",
    "  filter(Complexity == \"HC\") %>%\n",
    "  filter(`Error simulation` == \"Yes\") %>%\n",
    "  unite(Pipeline, Pipeline, Bank) %>%\n",
    "  rename(\"Estimated_CHAO1\" = \"CHAO1\")\n",
    "chao1_data = cbind(chao1_data, real_chao1[,\"CHAO1\"])\n",
    "chao1_data = chao1_data %>%\n",
    "  mutate(Chao1_Percent = round(((Estimated_CHAO1 - CHAO1)/CHAO1)*100,1) )\n",
    "\n",
    "data = data %>%\n",
    "  filter(Amplicon == \"200(V3)\") %>%\n",
    "  filter(Throughput == 50000) %>%\n",
    "  filter(Complexity == \"HC\") %>%\n",
    "  filter(`Error simulation` == \"Yes\") %>%\n",
    "  unite(Pipeline, Pipeline, Bank)\n",
    "data[data[,\"Pipeline\"] == \"BMP_GG\",\"Pipeline\"] = \"* BMP_GG\"\n",
    "data[data[,\"Pipeline\"] == \"mothur_S\",\"Pipeline\"] = \"* mothur_S\"\n",
    "data[data[,\"Pipeline\"] == \"One Codex_One Codex 28k\",\"Pipeline\"] = \"* One Codex_One Codex 28k\"\n",
    "data[data[,\"Pipeline\"] == \"QIIME SortMeRna SUMACLUST_GG\",\"Pipeline\"] = \"* QIIME SortMeRna SUMACLUST_GG\"\n",
    "data[data[,\"Pipeline\"] == \"CLARK_RefSeq Bacteria\",\"Pipeline\"] = \"CLARK\"\n",
    "data[data[,\"Pipeline\"] == \"kraken_MiniKraken DB\",\"Pipeline\"] = \"Kraken\"\n",
    "\n",
    "CHAO1_Percent = chao1_data$Chao1_Percent\n",
    "data = cbind(data, CHAO1_Percent)\n",
    "data = data[!data[,\"Pipeline\"] == \"QIIME UCLUST_GG\",]\n",
    "data = data[!data[,\"Pipeline\"] == \"QIIME UCLUST_S\",]\n",
    "ggplot(data, aes(x = Pipeline, y = `F-measure`, fill = Rank)) +\n",
    "  geom_bar(stat = \"identity\") +\n",
    "  scale_x_discrete(limits = c(\"* BMP_GG\",\"BMP_S\",\"CLARK\",\"Kraken\",\"* mothur_S\",\"mothur_GG\",\"One Codex_RefSeq 65\",\"* One Codex_One Codex 28k\",\"One Codex_S\",\"* QIIME SortMeRna SUMACLUST_GG\",\"QIIME SortMeRna SUMACLUST_S\")) +\n",
    "  facet_wrap(~Rank, ncol = 2) +\n",
    "  geom_text(size = 2, aes(label=CHAO1_Percent, y = 1)) +\n",
    "  geom_errorbar(aes(ymin=Recall, ymax=Precision)) +\n",
    "  theme(axis.text.x = element_text(angle = 90), legend.position = \"none\") +\n",
    "  ylab(\"F-measure\") +\n",
    "  coord_cartesian(ylim= c(0.4, 1))\n"
   ]
  },
  {
   "cell_type": "code",
   "execution_count": null,
   "metadata": {},
   "outputs": [],
   "source": []
  }
 ],
 "metadata": {
  "kernelspec": {
   "display_name": "R",
   "language": "R",
   "name": "ir"
  },
  "language_info": {
   "codemirror_mode": "r",
   "file_extension": ".r",
   "mimetype": "text/x-r-source",
   "name": "R",
   "pygments_lexer": "r",
   "version": "3.4.4"
  }
 },
 "nbformat": 4,
 "nbformat_minor": 2
}
